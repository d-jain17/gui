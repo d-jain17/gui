{
 "cells": [
  {
   "cell_type": "code",
   "execution_count": 1,
   "id": "a56a1437",
   "metadata": {},
   "outputs": [
    {
     "name": "stdout",
     "output_type": "stream",
     "text": [
      "Requirement already satisfied: pyqt5 in c:\\users\\hp\\anaconda3\\lib\\site-packages (5.15.9)\n",
      "Requirement already satisfied: PyQt5-sip<13,>=12.11 in c:\\users\\hp\\anaconda3\\lib\\site-packages (from pyqt5) (12.11.0)\n",
      "Requirement already satisfied: PyQt5-Qt5>=5.15.2 in c:\\users\\hp\\anaconda3\\lib\\site-packages (from pyqt5) (5.15.2)\n",
      "Note: you may need to restart the kernel to use updated packages.\n"
     ]
    },
    {
     "name": "stderr",
     "output_type": "stream",
     "text": [
      "\n",
      "[notice] A new release of pip is available: 23.3.2 -> 24.0\n",
      "[notice] To update, run: python.exe -m pip install --upgrade pip\n"
     ]
    }
   ],
   "source": [
    "pip install pyqt5"
   ]
  },
  {
   "cell_type": "code",
   "execution_count": 2,
   "id": "ad899263",
   "metadata": {},
   "outputs": [],
   "source": [
    "import PyQt5"
   ]
  },
  {
   "cell_type": "code",
   "execution_count": 3,
   "id": "7368dc19",
   "metadata": {},
   "outputs": [
    {
     "name": "stdout",
     "output_type": "stream",
     "text": [
      "Requirement already satisfied: PyQt5-tools in c:\\users\\hp\\anaconda3\\lib\\site-packages (5.15.9.3.3)\n",
      "Requirement already satisfied: click in c:\\users\\hp\\anaconda3\\lib\\site-packages (from PyQt5-tools) (8.0.4)\n",
      "Requirement already satisfied: pyqt5==5.15.9 in c:\\users\\hp\\anaconda3\\lib\\site-packages (from PyQt5-tools) (5.15.9)\n",
      "Requirement already satisfied: pyqt5-plugins<5.15.9.3,>=5.15.9.2.2 in c:\\users\\hp\\anaconda3\\lib\\site-packages (from PyQt5-tools) (5.15.9.2.3)\n",
      "Requirement already satisfied: python-dotenv in c:\\users\\hp\\anaconda3\\lib\\site-packages (from PyQt5-tools) (1.0.0)\n",
      "Requirement already satisfied: PyQt5-sip<13,>=12.11 in c:\\users\\hp\\anaconda3\\lib\\site-packages (from pyqt5==5.15.9->PyQt5-tools) (12.11.0)\n",
      "Requirement already satisfied: PyQt5-Qt5>=5.15.2 in c:\\users\\hp\\anaconda3\\lib\\site-packages (from pyqt5==5.15.9->PyQt5-tools) (5.15.2)\n",
      "Requirement already satisfied: qt5-tools<5.15.2.2,>=5.15.2.1.2 in c:\\users\\hp\\anaconda3\\lib\\site-packages (from pyqt5-plugins<5.15.9.3,>=5.15.9.2.2->PyQt5-tools) (5.15.2.1.3)\n",
      "Requirement already satisfied: colorama in c:\\users\\hp\\anaconda3\\lib\\site-packages (from click->PyQt5-tools) (0.4.6)\n",
      "Requirement already satisfied: qt5-applications<5.15.2.3,>=5.15.2.2.2 in c:\\users\\hp\\anaconda3\\lib\\site-packages (from qt5-tools<5.15.2.2,>=5.15.2.1.2->pyqt5-plugins<5.15.9.3,>=5.15.9.2.2->PyQt5-tools) (5.15.2.2.3)\n",
      "Note: you may need to restart the kernel to use updated packages.\n"
     ]
    },
    {
     "name": "stderr",
     "output_type": "stream",
     "text": [
      "\n",
      "[notice] A new release of pip is available: 23.3.2 -> 24.0\n",
      "[notice] To update, run: python.exe -m pip install --upgrade pip\n"
     ]
    }
   ],
   "source": [
    "pip install PyQt5-tools"
   ]
  },
  {
   "cell_type": "code",
   "execution_count": 4,
   "id": "3ce1219f",
   "metadata": {},
   "outputs": [
    {
     "data": {
      "text/plain": [
       "['C:\\\\Users\\\\hp\\\\anaconda3', 'C:\\\\Users\\\\hp\\\\anaconda3\\\\Lib\\\\site-packages']"
      ]
     },
     "execution_count": 4,
     "metadata": {},
     "output_type": "execute_result"
    }
   ],
   "source": [
    " import site\n",
    "site.getsitepackages()"
   ]
  },
  {
   "cell_type": "code",
   "execution_count": null,
   "id": "76568629",
   "metadata": {},
   "outputs": [],
   "source": [
    "#testing\n",
    "from PyQt5 import QtWidgets, QtGui, QtCore\n",
    "from PyQt5.QtWidgets import QApplication, QMainWindow, QLabel, QVBoxLayout, QWidget\n",
    "import sys\n",
    "def setTranslucentBackground(window: QMainWindow):\n",
    "    try:\n",
    "        # Set the window's background color to translucent black\n",
    "        window.setStyleSheet(\"background-color: rgba(0, 0, 0, 0.5);\")\n",
    "    except Exception as e:\n",
    "        print(f\"Error in setTranslucentBackground: {e}\")\n",
    "\n",
    "from unittest import TestCase\n",
    "from PyQt5.QtWidgets import QApplication, QMainWindow\n",
    "\n",
    "class TestSetTranslucentBackground(TestCase):\n",
    "    def test_set_translucent_background(self):\n",
    "        app = QApplication([])\n",
    "        win = QMainWindow()\n",
    "        setTranslucentBackground(win)\n",
    "        self.assertEqual(win.styleSheet(), \"background-color: rgba(0, 0, 0, 0.5);\")\n",
    "\n",
    "win = QMainWindow()\n",
    "setTranslucentBackground(win)"
   ]
  },
  {
   "cell_type": "code",
   "execution_count": null,
   "id": "63cc28f8",
   "metadata": {},
   "outputs": [],
   "source": [
    "python test_translucent_background.py"
   ]
  },
  {
   "cell_type": "code",
   "execution_count": 5,
   "id": "9a9e5d22",
   "metadata": {},
   "outputs": [
    {
     "ename": "SystemExit",
     "evalue": "0",
     "output_type": "error",
     "traceback": [
      "An exception has occurred, use %tb to see the full traceback.\n",
      "\u001b[1;31mSystemExit\u001b[0m\u001b[1;31m:\u001b[0m 0\n"
     ]
    }
   ],
   "source": [
    "#welcome page\n",
    "import sys\n",
    "from PyQt5 import QtWidgets, QtCore, QtGui\n",
    "\n",
    "app = QtWidgets.QApplication(sys.argv)\n",
    "\n",
    "# Create invisible widget\n",
    "window = QtWidgets.QWidget()\n",
    "window.setAttribute(QtCore.Qt.WA_TranslucentBackground)\n",
    "window.setWindowFlags(QtCore.Qt.FramelessWindowHint)\n",
    "window.setFixedSize(1920, 1080)\n",
    "\n",
    "# Set the window background to transparent\n",
    "window.setStyleSheet(\"background-color: transparent;\")\n",
    "\n",
    "# Add visible child widget, when this widget is transparent it will also be invisible\n",
    "visible_child = QtWidgets.QWidget(window)\n",
    "visible_child.setStyleSheet('QWidget{background-color: transparent}')\n",
    "visible_child.setObjectName('vc')\n",
    "visible_child.setFixedSize(1920, 1080)\n",
    "layout = QtWidgets.QGridLayout()  # Use QGridLayout for centering\n",
    "\n",
    "# Add a custom \"X\" button for closing the window\n",
    "close_button = QtWidgets.QPushButton()\n",
    "close_button.setIcon(QtGui.QIcon('close_icon.png'))  # Set the close button icon\n",
    "close_button.setIconSize(QtCore.QSize(20, 20))  # Set the icon size\n",
    "close_button.setFixedSize(QtCore.QSize(30, 30))  # Set the button size\n",
    "close_button.setStyleSheet('background-color: red; border-radius: 10px; color: white;')  # Customize button style\n",
    "close_button.clicked.connect(lambda: app.exit(0))\n",
    "layout.addWidget(close_button, 0, 0, alignment=QtCore.Qt.AlignTop | QtCore.Qt.AlignRight)  # Align button to top-right\n",
    "\n",
    "# Add an empty widget to push the text and image to the center vertically\n",
    "top_spacer = QtWidgets.QWidget()\n",
    "top_spacer.setSizePolicy(QtWidgets.QSizePolicy.Expanding, QtWidgets.QSizePolicy.Expanding)\n",
    "layout.addWidget(top_spacer, 0, 1)\n",
    "\n",
    "# Add the text \"WELCOME TO GESTURE\" above the image\n",
    "welcome_label = QtWidgets.QLabel(\"WELCOME TO GESTURE!\", alignment=QtCore.Qt.AlignCenter)  # Align the label text to center\n",
    "font = QtGui.QFont()\n",
    "font.setPointSize(36)  # Set the font size\n",
    "font.setBold(True)\n",
    "welcome_label.setFont(font)\n",
    "welcome_label.setStyleSheet(\"color: #5346dd; text-shadow: 2px 2px 4px black;\")  # Set the text color and shadow\n",
    "layout.addWidget(welcome_label, 1, 0, 1, 2, alignment=QtCore.Qt.AlignCenter)  # Add text to center of grid layout spanning two columns\n",
    "\n",
    "# Load gesture.png as an object\n",
    "gesture_label = QtWidgets.QLabel(alignment=QtCore.Qt.AlignCenter)  # Align the label text to center\n",
    "pixmap = QtGui.QPixmap(\"gesture_logo.jpeg\")  # Set the image path\n",
    "pixmap = pixmap.scaledToWidth(200)  # Set the width as per your requirement\n",
    "gesture_label.setPixmap(pixmap)\n",
    "layout.addWidget(gesture_label, 2, 0, 1, 2, alignment=QtCore.Qt.AlignCenter)  # Add image to center of grid layout spanning two columns\n",
    "\n",
    "# Add an empty widget to push the image to the center vertically\n",
    "bottom_spacer = QtWidgets.QWidget()\n",
    "bottom_spacer.setSizePolicy(QtWidgets.QSizePolicy.Expanding, QtWidgets.QSizePolicy.Expanding)\n",
    "layout.addWidget(bottom_spacer, 3, 1)\n",
    "\n",
    "visible_child.setLayout(layout)\n",
    "window.show()\n",
    "sys.exit(app.exec_())\n"
   ]
  },
  {
   "cell_type": "code",
   "execution_count": 1,
   "id": "b451f360",
   "metadata": {},
   "outputs": [
    {
     "ename": "SystemExit",
     "evalue": "0",
     "output_type": "error",
     "traceback": [
      "An exception has occurred, use %tb to see the full traceback.\n",
      "\u001b[1;31mSystemExit\u001b[0m\u001b[1;31m:\u001b[0m 0\n"
     ]
    },
    {
     "name": "stderr",
     "output_type": "stream",
     "text": [
      "C:\\Users\\hp\\anaconda3\\Lib\\site-packages\\IPython\\core\\interactiveshell.py:3513: UserWarning: To exit: use 'exit', 'quit', or Ctrl-D.\n",
      "  warn(\"To exit: use 'exit', 'quit', or Ctrl-D.\", stacklevel=1)\n"
     ]
    }
   ],
   "source": [
    "#detecting hands\n",
    "import sys\n",
    "from PyQt5 import QtWidgets, QtCore, QtGui\n",
    "\n",
    "app = QtWidgets.QApplication(sys.argv)\n",
    "\n",
    "# Create invisible widget\n",
    "window = QtWidgets.QWidget()\n",
    "window.setAttribute(QtCore.Qt.WA_TranslucentBackground)\n",
    "window.setWindowFlags(QtCore.Qt.FramelessWindowHint)\n",
    "window.setFixedSize(1920,1080)\n",
    "\n",
    "# Set the window background to transparent\n",
    "window.setStyleSheet(\"background-color: transparent;\")\n",
    "\n",
    "# Add visible child widget, when this widget is transparent it will also be invisible\n",
    "visible_child = QtWidgets.QWidget(window)\n",
    "visible_child.setStyleSheet('QWidget{background-color: transparent}')\n",
    "visible_child.setObjectName('vc')\n",
    "visible_child.setFixedSize(1920,1080)\n",
    "layout = QtWidgets.QGridLayout()\n",
    "\n",
    "# Load the background image\n",
    "background_image = QtWidgets.QLabel(visible_child)\n",
    "pixmap = QtGui.QPixmap(\"detecting.png\")  # Set the background image path\n",
    "pixmap = pixmap.scaled(window.size())  # Scale the image to window size\n",
    "background_image.setPixmap(pixmap)\n",
    "layout.addWidget(background_image, 0, 0, 1, 1)  # Add background image to layout\n",
    "\n",
    "# Add a custom \"X\" button for closing the window\n",
    "close_button = QtWidgets.QPushButton()\n",
    "close_button.setIcon(QtGui.QIcon('close_icon.png'))  # Set the close button icon\n",
    "close_button.setIconSize(QtCore.QSize(20, 20))  # Set the icon size\n",
    "close_button.setFixedSize(QtCore.QSize(30, 30))  # Set the button size\n",
    "close_button.setStyleSheet('background-color: red; border-radius: 10px; color: white;')  # Customize button style\n",
    "close_button.clicked.connect(lambda: app.exit(0))\n",
    "layout.addWidget(close_button, 0, 0, alignment=QtCore.Qt.AlignTop | QtCore.Qt.AlignRight)  # Align button to top-right\n",
    "\n",
    "\n",
    "visible_child.setLayout(layout)\n",
    "window.show()\n",
    "sys.exit(app.exec_())\n"
   ]
  },
  {
   "cell_type": "code",
   "execution_count": 1,
   "id": "fede8d01",
   "metadata": {},
   "outputs": [
    {
     "ename": "SystemExit",
     "evalue": "0",
     "output_type": "error",
     "traceback": [
      "An exception has occurred, use %tb to see the full traceback.\n",
      "\u001b[1;31mSystemExit\u001b[0m\u001b[1;31m:\u001b[0m 0\n"
     ]
    },
    {
     "name": "stderr",
     "output_type": "stream",
     "text": [
      "C:\\Users\\hp\\anaconda3\\Lib\\site-packages\\IPython\\core\\interactiveshell.py:3513: UserWarning: To exit: use 'exit', 'quit', or Ctrl-D.\n",
      "  warn(\"To exit: use 'exit', 'quit', or Ctrl-D.\", stacklevel=1)\n"
     ]
    }
   ],
   "source": [
    "#detected hands\n",
    "import sys\n",
    "from PyQt5 import QtWidgets, QtCore, QtGui\n",
    "\n",
    "app = QtWidgets.QApplication(sys.argv)\n",
    "\n",
    "# Create invisible widget\n",
    "window = QtWidgets.QWidget()\n",
    "window.setAttribute(QtCore.Qt.WA_TranslucentBackground)\n",
    "window.setWindowFlags(QtCore.Qt.FramelessWindowHint)\n",
    "window.setFixedSize(1920,1080)\n",
    "\n",
    "# Set the window background to transparent\n",
    "window.setStyleSheet(\"background-color: transparent;\")\n",
    "\n",
    "# Add visible child widget, when this widget is transparent it will also be invisible\n",
    "visible_child = QtWidgets.QWidget(window)\n",
    "visible_child.setStyleSheet('QWidget{background-color: transparent}')\n",
    "visible_child.setObjectName('vc')\n",
    "visible_child.setFixedSize(1920,1080)\n",
    "layout = QtWidgets.QGridLayout()\n",
    "\n",
    "# Load the background image\n",
    "background_image = QtWidgets.QLabel(visible_child)\n",
    "pixmap = QtGui.QPixmap(\"detected.png\")  # Set the background image path\n",
    "pixmap = pixmap.scaled(window.size())  # Scale the image to window size\n",
    "background_image.setPixmap(pixmap)\n",
    "layout.addWidget(background_image, 0, 0, 1, 1)  # Add background image to layout\n",
    "\n",
    "# Add a custom \"X\" button for closing the window\n",
    "close_button = QtWidgets.QPushButton()\n",
    "close_button.setIcon(QtGui.QIcon('close_icon.png'))  # Set the close button icon\n",
    "close_button.setIconSize(QtCore.QSize(20, 20))  # Set the icon size\n",
    "close_button.setFixedSize(QtCore.QSize(30, 30))  # Set the button size\n",
    "close_button.setStyleSheet('background-color: red; border-radius: 10px; color: white;')  # Customize button style\n",
    "close_button.clicked.connect(lambda: app.exit(0))\n",
    "layout.addWidget(close_button, 0, 0, alignment=QtCore.Qt.AlignTop | QtCore.Qt.AlignRight)  # Align button to top-right\n",
    "\n",
    "\n",
    "visible_child.setLayout(layout)\n",
    "window.show()\n",
    "sys.exit(app.exec_())\n"
   ]
  },
  {
   "cell_type": "code",
   "execution_count": null,
   "id": "dbbc8d62",
   "metadata": {},
   "outputs": [],
   "source": []
  }
 ],
 "metadata": {
  "kernelspec": {
   "display_name": "Python 3 (ipykernel)",
   "language": "python",
   "name": "python3"
  },
  "language_info": {
   "codemirror_mode": {
    "name": "ipython",
    "version": 3
   },
   "file_extension": ".py",
   "mimetype": "text/x-python",
   "name": "python",
   "nbconvert_exporter": "python",
   "pygments_lexer": "ipython3",
   "version": "3.11.4"
  }
 },
 "nbformat": 4,
 "nbformat_minor": 5
}
